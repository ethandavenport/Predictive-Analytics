{
 "cells": [
  {
   "cell_type": "markdown",
   "metadata": {
    "id": "RqBGRdLIcmca"
   },
   "source": [
    "# Import Libraries and Data"
   ]
  },
  {
   "cell_type": "code",
   "execution_count": 11,
   "metadata": {},
   "outputs": [
    {
     "name": "stdout",
     "output_type": "stream",
     "text": [
      "Requirement already satisfied: scikit-learn in c:\\users\\ethan\\anaconda3\\lib\\site-packages (1.0.2)\n",
      "Collecting scikit-learn\n",
      "  Downloading scikit_learn-1.4.1.post1-cp39-cp39-win_amd64.whl (10.6 MB)\n",
      "     ---------------------------------------- 10.6/10.6 MB 8.7 MB/s eta 0:00:00\n",
      "Requirement already satisfied: numpy<2.0,>=1.19.5 in c:\\users\\ethan\\anaconda3\\lib\\site-packages (from scikit-learn) (1.24.4)\n",
      "Collecting joblib>=1.2.0\n",
      "  Downloading joblib-1.3.2-py3-none-any.whl (302 kB)\n",
      "     -------------------------------------- 302.2/302.2 kB 4.7 MB/s eta 0:00:00\n",
      "Requirement already satisfied: threadpoolctl>=2.0.0 in c:\\users\\ethan\\anaconda3\\lib\\site-packages (from scikit-learn) (2.2.0)\n",
      "Requirement already satisfied: scipy>=1.6.0 in c:\\users\\ethan\\anaconda3\\lib\\site-packages (from scikit-learn) (1.9.1)\n",
      "Installing collected packages: joblib, scikit-learn\n",
      "  Attempting uninstall: joblib\n",
      "    Found existing installation: joblib 1.1.0\n",
      "    Uninstalling joblib-1.1.0:\n",
      "      Successfully uninstalled joblib-1.1.0\n",
      "  Attempting uninstall: scikit-learn\n",
      "    Found existing installation: scikit-learn 1.0.2\n",
      "    Uninstalling scikit-learn-1.0.2:\n",
      "      Successfully uninstalled scikit-learn-1.0.2\n",
      "Successfully installed joblib-1.3.2 scikit-learn-1.4.1.post1\n",
      "Note: you may need to restart the kernel to use updated packages.\n"
     ]
    }
   ],
   "source": [
    "pip install --upgrade scikit-learn"
   ]
  },
  {
   "cell_type": "code",
   "execution_count": 12,
   "metadata": {
    "id": "kHI0WDsrdL97"
   },
   "outputs": [],
   "source": [
    "import pandas as pd # dataframe/data cleaning/manipulation\n",
    "import numpy as np # array computations\n",
    "from matplotlib import pyplot as plt # plotting/graphing\n",
    "import matplotlib.patches as mpatches\n",
    "from sklearn.tree import plot_tree, export_text, DecisionTreeClassifier # Decision tree algorithm and plotting functions for the Decision tree\n",
    "from sklearn.ensemble import BaggingClassifier, RandomForestClassifier, AdaBoostClassifier, GradientBoostingClassifier # Bagging, Random Forest, and Boosting algorithms\n",
    "from sklearn.linear_model import LogisticRegression # Logistic Regression Algorithm\n",
    "from sklearn.model_selection import train_test_split, cross_val_score, cross_val_predict # train test split and cross validation accuracy/prediction functions\n",
    "from sklearn.metrics import confusion_matrix, precision_score, recall_score, accuracy_score, roc_auc_score # Various model evaluation metrics\n",
    "import warnings\n",
    "warnings.filterwarnings('ignore')"
   ]
  },
  {
   "cell_type": "markdown",
   "metadata": {
    "id": "uWIiLykDfcvr"
   },
   "source": [
    "Note: If you are using Google Colab, you must upload the `hr.csv` file from Canvas by doing the following:\n",
    "\n",
    "* On the left-side bar, click the folder icon.\n",
    "* Click the 'Upload to session storage' button.\n",
    "* Upload the CSV file; it will appear below the 'sample_data' folder.\n",
    "\n",
    "**Unfortunately, this process must be done every time the runtime is disconnected - just a quirk with Google Colab.**\n",
    "\n",
    "If you are using Jupyter notebook, just make sure the CSV file is in the same folder location as this .ipynb file."
   ]
  },
  {
   "cell_type": "code",
   "execution_count": 2,
   "metadata": {
    "id": "NOalKMZbfenm"
   },
   "outputs": [],
   "source": [
    "hr_df = pd.read_csv('hr.csv',index_col=0)\n",
    "\n",
    "# These objects will be used to create visualizations later.\n",
    "\n",
    "col_val = hr_df.columns.tolist()\n",
    "\n",
    "meta = [('\\ufeffAge', 'NUMERIC'), ('BusinessTravel', ['Travel_Rarely', 'Travel_Frequently', 'Non-Travel']),\n",
    " ('DailyRate', 'NUMERIC'), ('Department', ['Sales', 'Research & Development', 'Human Resources']), ('DistanceFromHome', 'NUMERIC'), ('Education', 'NUMERIC'),\n",
    "  ('EducationField', ['Life Sciences', 'Other', 'Medical', 'Marketing', 'Technical Degree', 'Human Resources']), ('EmployeeCount', 'NUMERIC'),\n",
    "   ('EmployeeNumber', 'NUMERIC'), ('EnvironmentSatisfaction', 'NUMERIC'), ('Gender', ['Female', 'Male']), ('HourlyRate', 'NUMERIC'), ('JobInvolvement', 'NUMERIC'),\n",
    "    ('JobLevel', 'NUMERIC'),\n",
    "     ('JobRole', ['Sales Executive', 'Research Scientist', 'Laboratory Technician', 'Manufacturing Director', 'Healthcare Representative', 'Manager', 'Sales Representative', 'Research Director', 'Human Resources']),\n",
    "      ('JobSatisfaction', 'NUMERIC'), ('MaritalStatus', ['Single', 'Married', 'Divorced']),\n",
    "       ('MonthlyIncome', 'NUMERIC'), ('MonthlyRate', 'NUMERIC'), ('NumCompaniesWorked', 'NUMERIC'),\n",
    "        ('Over18', ['Y']), ('OverTime', ['Yes', 'No']), ('PercentSalaryHike', 'NUMERIC'), ('PerformanceRating', 'NUMERIC'), ('RelationshipSatisfaction', 'NUMERIC'),\n",
    "         ('StandardHours', 'NUMERIC'), ('StockOptionLevel', 'NUMERIC'), ('TotalWorkingYears', 'NUMERIC'), ('TrainingTimesLastYear', 'NUMERIC'),\n",
    "          ('WorkLifeBalance', 'NUMERIC'), ('YearsAtCompany', 'NUMERIC'), ('YearsInCurrentRole', 'NUMERIC'), ('YearsSinceLastPromotion', 'NUMERIC'),\n",
    "           ('YearsWithCurrManager', 'NUMERIC'), ('Attrition', ['Yes', 'No'])]"
   ]
  },
  {
   "cell_type": "markdown",
   "metadata": {
    "id": "_PAtuLQPctOl"
   },
   "source": [
    "# Visualize Data and Attributes\n"
   ]
  },
  {
   "cell_type": "markdown",
   "metadata": {
    "id": "UtzfvI-SgmNf"
   },
   "source": [
    "We are now working with a new dataset from a Human Resources Department keeping data on employee attrition. We are aiming to predict whether or not an employee will choose to leave the company (Attrition) based on 34 different features, such as age, how often they travel for business, and job satisfaction. The first 5 rows of the dataset are shown below."
   ]
  },
  {
   "cell_type": "code",
   "execution_count": 3,
   "metadata": {
    "colab": {
     "base_uri": "https://localhost:8080/",
     "height": 307
    },
    "executionInfo": {
     "elapsed": 150,
     "status": "ok",
     "timestamp": 1703979109949,
     "user": {
      "displayName": "Ethan R Wong",
      "userId": "02960486710277803186"
     },
     "user_tz": 360
    },
    "id": "3ycdV3FphwPG",
    "outputId": "2637deae-44bd-4a18-bdae-079111fb0416"
   },
   "outputs": [
    {
     "data": {
      "text/html": [
       "<div>\n",
       "<style scoped>\n",
       "    .dataframe tbody tr th:only-of-type {\n",
       "        vertical-align: middle;\n",
       "    }\n",
       "\n",
       "    .dataframe tbody tr th {\n",
       "        vertical-align: top;\n",
       "    }\n",
       "\n",
       "    .dataframe thead th {\n",
       "        text-align: right;\n",
       "    }\n",
       "</style>\n",
       "<table border=\"1\" class=\"dataframe\">\n",
       "  <thead>\n",
       "    <tr style=\"text-align: right;\">\n",
       "      <th></th>\n",
       "      <th>﻿Age</th>\n",
       "      <th>BusinessTravel</th>\n",
       "      <th>DailyRate</th>\n",
       "      <th>Department</th>\n",
       "      <th>DistanceFromHome</th>\n",
       "      <th>Education</th>\n",
       "      <th>EducationField</th>\n",
       "      <th>EmployeeCount</th>\n",
       "      <th>EmployeeNumber</th>\n",
       "      <th>EnvironmentSatisfaction</th>\n",
       "      <th>...</th>\n",
       "      <th>StandardHours</th>\n",
       "      <th>StockOptionLevel</th>\n",
       "      <th>TotalWorkingYears</th>\n",
       "      <th>TrainingTimesLastYear</th>\n",
       "      <th>WorkLifeBalance</th>\n",
       "      <th>YearsAtCompany</th>\n",
       "      <th>YearsInCurrentRole</th>\n",
       "      <th>YearsSinceLastPromotion</th>\n",
       "      <th>YearsWithCurrManager</th>\n",
       "      <th>Attrition</th>\n",
       "    </tr>\n",
       "  </thead>\n",
       "  <tbody>\n",
       "    <tr>\n",
       "      <th>0</th>\n",
       "      <td>41.0</td>\n",
       "      <td>Travel_Rarely</td>\n",
       "      <td>1102.0</td>\n",
       "      <td>Sales</td>\n",
       "      <td>1.0</td>\n",
       "      <td>2.0</td>\n",
       "      <td>Life Sciences</td>\n",
       "      <td>1.0</td>\n",
       "      <td>1.0</td>\n",
       "      <td>2.0</td>\n",
       "      <td>...</td>\n",
       "      <td>80.0</td>\n",
       "      <td>0.0</td>\n",
       "      <td>8.0</td>\n",
       "      <td>0.0</td>\n",
       "      <td>1.0</td>\n",
       "      <td>6.0</td>\n",
       "      <td>4.0</td>\n",
       "      <td>0.0</td>\n",
       "      <td>5.0</td>\n",
       "      <td>1</td>\n",
       "    </tr>\n",
       "    <tr>\n",
       "      <th>1</th>\n",
       "      <td>37.0</td>\n",
       "      <td>Travel_Rarely</td>\n",
       "      <td>1373.0</td>\n",
       "      <td>Research &amp; Development</td>\n",
       "      <td>2.0</td>\n",
       "      <td>2.0</td>\n",
       "      <td>Other</td>\n",
       "      <td>1.0</td>\n",
       "      <td>4.0</td>\n",
       "      <td>4.0</td>\n",
       "      <td>...</td>\n",
       "      <td>80.0</td>\n",
       "      <td>0.0</td>\n",
       "      <td>7.0</td>\n",
       "      <td>3.0</td>\n",
       "      <td>3.0</td>\n",
       "      <td>0.0</td>\n",
       "      <td>0.0</td>\n",
       "      <td>0.0</td>\n",
       "      <td>0.0</td>\n",
       "      <td>1</td>\n",
       "    </tr>\n",
       "    <tr>\n",
       "      <th>2</th>\n",
       "      <td>28.0</td>\n",
       "      <td>Travel_Rarely</td>\n",
       "      <td>103.0</td>\n",
       "      <td>Research &amp; Development</td>\n",
       "      <td>24.0</td>\n",
       "      <td>3.0</td>\n",
       "      <td>Life Sciences</td>\n",
       "      <td>1.0</td>\n",
       "      <td>19.0</td>\n",
       "      <td>3.0</td>\n",
       "      <td>...</td>\n",
       "      <td>80.0</td>\n",
       "      <td>0.0</td>\n",
       "      <td>6.0</td>\n",
       "      <td>4.0</td>\n",
       "      <td>3.0</td>\n",
       "      <td>4.0</td>\n",
       "      <td>2.0</td>\n",
       "      <td>0.0</td>\n",
       "      <td>3.0</td>\n",
       "      <td>1</td>\n",
       "    </tr>\n",
       "    <tr>\n",
       "      <th>3</th>\n",
       "      <td>36.0</td>\n",
       "      <td>Travel_Rarely</td>\n",
       "      <td>1218.0</td>\n",
       "      <td>Sales</td>\n",
       "      <td>9.0</td>\n",
       "      <td>4.0</td>\n",
       "      <td>Life Sciences</td>\n",
       "      <td>1.0</td>\n",
       "      <td>27.0</td>\n",
       "      <td>3.0</td>\n",
       "      <td>...</td>\n",
       "      <td>80.0</td>\n",
       "      <td>0.0</td>\n",
       "      <td>10.0</td>\n",
       "      <td>4.0</td>\n",
       "      <td>3.0</td>\n",
       "      <td>5.0</td>\n",
       "      <td>3.0</td>\n",
       "      <td>0.0</td>\n",
       "      <td>3.0</td>\n",
       "      <td>1</td>\n",
       "    </tr>\n",
       "    <tr>\n",
       "      <th>4</th>\n",
       "      <td>34.0</td>\n",
       "      <td>Travel_Rarely</td>\n",
       "      <td>699.0</td>\n",
       "      <td>Research &amp; Development</td>\n",
       "      <td>6.0</td>\n",
       "      <td>1.0</td>\n",
       "      <td>Medical</td>\n",
       "      <td>1.0</td>\n",
       "      <td>31.0</td>\n",
       "      <td>2.0</td>\n",
       "      <td>...</td>\n",
       "      <td>80.0</td>\n",
       "      <td>0.0</td>\n",
       "      <td>8.0</td>\n",
       "      <td>2.0</td>\n",
       "      <td>3.0</td>\n",
       "      <td>4.0</td>\n",
       "      <td>2.0</td>\n",
       "      <td>1.0</td>\n",
       "      <td>3.0</td>\n",
       "      <td>1</td>\n",
       "    </tr>\n",
       "  </tbody>\n",
       "</table>\n",
       "<p>5 rows × 35 columns</p>\n",
       "</div>"
      ],
      "text/plain": [
       "   ﻿Age BusinessTravel  DailyRate              Department  DistanceFromHome  \\\n",
       "0  41.0  Travel_Rarely     1102.0                   Sales               1.0   \n",
       "1  37.0  Travel_Rarely     1373.0  Research & Development               2.0   \n",
       "2  28.0  Travel_Rarely      103.0  Research & Development              24.0   \n",
       "3  36.0  Travel_Rarely     1218.0                   Sales               9.0   \n",
       "4  34.0  Travel_Rarely      699.0  Research & Development               6.0   \n",
       "\n",
       "   Education EducationField  EmployeeCount  EmployeeNumber  \\\n",
       "0        2.0  Life Sciences            1.0             1.0   \n",
       "1        2.0          Other            1.0             4.0   \n",
       "2        3.0  Life Sciences            1.0            19.0   \n",
       "3        4.0  Life Sciences            1.0            27.0   \n",
       "4        1.0        Medical            1.0            31.0   \n",
       "\n",
       "   EnvironmentSatisfaction  ... StandardHours  StockOptionLevel  \\\n",
       "0                      2.0  ...          80.0               0.0   \n",
       "1                      4.0  ...          80.0               0.0   \n",
       "2                      3.0  ...          80.0               0.0   \n",
       "3                      3.0  ...          80.0               0.0   \n",
       "4                      2.0  ...          80.0               0.0   \n",
       "\n",
       "   TotalWorkingYears  TrainingTimesLastYear WorkLifeBalance  YearsAtCompany  \\\n",
       "0                8.0                    0.0             1.0             6.0   \n",
       "1                7.0                    3.0             3.0             0.0   \n",
       "2                6.0                    4.0             3.0             4.0   \n",
       "3               10.0                    4.0             3.0             5.0   \n",
       "4                8.0                    2.0             3.0             4.0   \n",
       "\n",
       "  YearsInCurrentRole  YearsSinceLastPromotion  YearsWithCurrManager  Attrition  \n",
       "0                4.0                      0.0                   5.0          1  \n",
       "1                0.0                      0.0                   0.0          1  \n",
       "2                2.0                      0.0                   3.0          1  \n",
       "3                3.0                      0.0                   3.0          1  \n",
       "4                2.0                      1.0                   3.0          1  \n",
       "\n",
       "[5 rows x 35 columns]"
      ]
     },
     "execution_count": 3,
     "metadata": {},
     "output_type": "execute_result"
    }
   ],
   "source": [
    "hr_df.head()"
   ]
  },
  {
   "cell_type": "markdown",
   "metadata": {
    "id": "bEXVFppViNzF"
   },
   "source": [
    "Before going further, we also need to convert all of our categorical variables into dummy variables, as Scikit-Learn can only work with numeric values and True/False (or 0 and 1) values. We can achive this with [pd.get_dummies()](https://pandas.pydata.org/docs/reference/api/pandas.get_dummies.html)."
   ]
  },
  {
   "cell_type": "code",
   "execution_count": 4,
   "metadata": {
    "id": "gOKntsfljEAR"
   },
   "outputs": [],
   "source": [
    "hr_df_binarized = pd.get_dummies(hr_df)"
   ]
  },
  {
   "cell_type": "markdown",
   "metadata": {
    "id": "f9Q5FMw-jSDw"
   },
   "source": [
    "By binarizing our dataset, now we have 54 different features to work with. The first 5 rows of the dataset after this change are shown below.\n",
    "\n",
    "**Note:** All of the variables affected by `pd.get_dummies()` were pushed to the right side of our dataframe."
   ]
  },
  {
   "cell_type": "code",
   "execution_count": 5,
   "metadata": {
    "colab": {
     "base_uri": "https://localhost:8080/",
     "height": 273
    },
    "executionInfo": {
     "elapsed": 6,
     "status": "ok",
     "timestamp": 1703979110101,
     "user": {
      "displayName": "Ethan R Wong",
      "userId": "02960486710277803186"
     },
     "user_tz": 360
    },
    "id": "NXfHAFMajO0z",
    "outputId": "3ebe6c7c-58bf-4a1c-ab40-f2b4cfe0dede"
   },
   "outputs": [
    {
     "data": {
      "text/html": [
       "<div>\n",
       "<style scoped>\n",
       "    .dataframe tbody tr th:only-of-type {\n",
       "        vertical-align: middle;\n",
       "    }\n",
       "\n",
       "    .dataframe tbody tr th {\n",
       "        vertical-align: top;\n",
       "    }\n",
       "\n",
       "    .dataframe thead th {\n",
       "        text-align: right;\n",
       "    }\n",
       "</style>\n",
       "<table border=\"1\" class=\"dataframe\">\n",
       "  <thead>\n",
       "    <tr style=\"text-align: right;\">\n",
       "      <th></th>\n",
       "      <th>﻿Age</th>\n",
       "      <th>DailyRate</th>\n",
       "      <th>DistanceFromHome</th>\n",
       "      <th>Education</th>\n",
       "      <th>EmployeeCount</th>\n",
       "      <th>EmployeeNumber</th>\n",
       "      <th>EnvironmentSatisfaction</th>\n",
       "      <th>HourlyRate</th>\n",
       "      <th>JobInvolvement</th>\n",
       "      <th>JobLevel</th>\n",
       "      <th>...</th>\n",
       "      <th>JobRole_Manager</th>\n",
       "      <th>JobRole_Manufacturing Director</th>\n",
       "      <th>JobRole_Research Director</th>\n",
       "      <th>JobRole_Research Scientist</th>\n",
       "      <th>JobRole_Sales Executive</th>\n",
       "      <th>JobRole_Sales Representative</th>\n",
       "      <th>MaritalStatus_Divorced</th>\n",
       "      <th>MaritalStatus_Married</th>\n",
       "      <th>MaritalStatus_Single</th>\n",
       "      <th>Over18_Y</th>\n",
       "    </tr>\n",
       "  </thead>\n",
       "  <tbody>\n",
       "    <tr>\n",
       "      <th>0</th>\n",
       "      <td>41.0</td>\n",
       "      <td>1102.0</td>\n",
       "      <td>1.0</td>\n",
       "      <td>2.0</td>\n",
       "      <td>1.0</td>\n",
       "      <td>1.0</td>\n",
       "      <td>2.0</td>\n",
       "      <td>94.0</td>\n",
       "      <td>3.0</td>\n",
       "      <td>2.0</td>\n",
       "      <td>...</td>\n",
       "      <td>0</td>\n",
       "      <td>0</td>\n",
       "      <td>0</td>\n",
       "      <td>0</td>\n",
       "      <td>1</td>\n",
       "      <td>0</td>\n",
       "      <td>0</td>\n",
       "      <td>0</td>\n",
       "      <td>1</td>\n",
       "      <td>1</td>\n",
       "    </tr>\n",
       "    <tr>\n",
       "      <th>1</th>\n",
       "      <td>37.0</td>\n",
       "      <td>1373.0</td>\n",
       "      <td>2.0</td>\n",
       "      <td>2.0</td>\n",
       "      <td>1.0</td>\n",
       "      <td>4.0</td>\n",
       "      <td>4.0</td>\n",
       "      <td>92.0</td>\n",
       "      <td>2.0</td>\n",
       "      <td>1.0</td>\n",
       "      <td>...</td>\n",
       "      <td>0</td>\n",
       "      <td>0</td>\n",
       "      <td>0</td>\n",
       "      <td>0</td>\n",
       "      <td>0</td>\n",
       "      <td>0</td>\n",
       "      <td>0</td>\n",
       "      <td>0</td>\n",
       "      <td>1</td>\n",
       "      <td>1</td>\n",
       "    </tr>\n",
       "    <tr>\n",
       "      <th>2</th>\n",
       "      <td>28.0</td>\n",
       "      <td>103.0</td>\n",
       "      <td>24.0</td>\n",
       "      <td>3.0</td>\n",
       "      <td>1.0</td>\n",
       "      <td>19.0</td>\n",
       "      <td>3.0</td>\n",
       "      <td>50.0</td>\n",
       "      <td>2.0</td>\n",
       "      <td>1.0</td>\n",
       "      <td>...</td>\n",
       "      <td>0</td>\n",
       "      <td>0</td>\n",
       "      <td>0</td>\n",
       "      <td>0</td>\n",
       "      <td>0</td>\n",
       "      <td>0</td>\n",
       "      <td>0</td>\n",
       "      <td>0</td>\n",
       "      <td>1</td>\n",
       "      <td>1</td>\n",
       "    </tr>\n",
       "    <tr>\n",
       "      <th>3</th>\n",
       "      <td>36.0</td>\n",
       "      <td>1218.0</td>\n",
       "      <td>9.0</td>\n",
       "      <td>4.0</td>\n",
       "      <td>1.0</td>\n",
       "      <td>27.0</td>\n",
       "      <td>3.0</td>\n",
       "      <td>82.0</td>\n",
       "      <td>2.0</td>\n",
       "      <td>1.0</td>\n",
       "      <td>...</td>\n",
       "      <td>0</td>\n",
       "      <td>0</td>\n",
       "      <td>0</td>\n",
       "      <td>0</td>\n",
       "      <td>0</td>\n",
       "      <td>1</td>\n",
       "      <td>0</td>\n",
       "      <td>0</td>\n",
       "      <td>1</td>\n",
       "      <td>1</td>\n",
       "    </tr>\n",
       "    <tr>\n",
       "      <th>4</th>\n",
       "      <td>34.0</td>\n",
       "      <td>699.0</td>\n",
       "      <td>6.0</td>\n",
       "      <td>1.0</td>\n",
       "      <td>1.0</td>\n",
       "      <td>31.0</td>\n",
       "      <td>2.0</td>\n",
       "      <td>83.0</td>\n",
       "      <td>3.0</td>\n",
       "      <td>1.0</td>\n",
       "      <td>...</td>\n",
       "      <td>0</td>\n",
       "      <td>0</td>\n",
       "      <td>0</td>\n",
       "      <td>1</td>\n",
       "      <td>0</td>\n",
       "      <td>0</td>\n",
       "      <td>0</td>\n",
       "      <td>0</td>\n",
       "      <td>1</td>\n",
       "      <td>1</td>\n",
       "    </tr>\n",
       "  </tbody>\n",
       "</table>\n",
       "<p>5 rows × 55 columns</p>\n",
       "</div>"
      ],
      "text/plain": [
       "   ﻿Age  DailyRate  DistanceFromHome  Education  EmployeeCount  \\\n",
       "0  41.0     1102.0               1.0        2.0            1.0   \n",
       "1  37.0     1373.0               2.0        2.0            1.0   \n",
       "2  28.0      103.0              24.0        3.0            1.0   \n",
       "3  36.0     1218.0               9.0        4.0            1.0   \n",
       "4  34.0      699.0               6.0        1.0            1.0   \n",
       "\n",
       "   EmployeeNumber  EnvironmentSatisfaction  HourlyRate  JobInvolvement  \\\n",
       "0             1.0                      2.0        94.0             3.0   \n",
       "1             4.0                      4.0        92.0             2.0   \n",
       "2            19.0                      3.0        50.0             2.0   \n",
       "3            27.0                      3.0        82.0             2.0   \n",
       "4            31.0                      2.0        83.0             3.0   \n",
       "\n",
       "   JobLevel  ...  JobRole_Manager  JobRole_Manufacturing Director  \\\n",
       "0       2.0  ...                0                               0   \n",
       "1       1.0  ...                0                               0   \n",
       "2       1.0  ...                0                               0   \n",
       "3       1.0  ...                0                               0   \n",
       "4       1.0  ...                0                               0   \n",
       "\n",
       "   JobRole_Research Director  JobRole_Research Scientist  \\\n",
       "0                          0                           0   \n",
       "1                          0                           0   \n",
       "2                          0                           0   \n",
       "3                          0                           0   \n",
       "4                          0                           1   \n",
       "\n",
       "   JobRole_Sales Executive  JobRole_Sales Representative  \\\n",
       "0                        1                             0   \n",
       "1                        0                             0   \n",
       "2                        0                             0   \n",
       "3                        0                             1   \n",
       "4                        0                             0   \n",
       "\n",
       "   MaritalStatus_Divorced  MaritalStatus_Married  MaritalStatus_Single  \\\n",
       "0                       0                      0                     1   \n",
       "1                       0                      0                     1   \n",
       "2                       0                      0                     1   \n",
       "3                       0                      0                     1   \n",
       "4                       0                      0                     1   \n",
       "\n",
       "   Over18_Y  \n",
       "0         1  \n",
       "1         1  \n",
       "2         1  \n",
       "3         1  \n",
       "4         1  \n",
       "\n",
       "[5 rows x 55 columns]"
      ]
     },
     "execution_count": 5,
     "metadata": {},
     "output_type": "execute_result"
    }
   ],
   "source": [
    "hr_df_binarized.head()"
   ]
  },
  {
   "cell_type": "markdown",
   "metadata": {
    "id": "4-4b9W5IkDuy"
   },
   "source": [
    "The function display_attribute() below is nearly identical to the one used in the DecisionTree_LogisticRegression_Final.ipynb file, specifically comparing the distribution of the Attrition attribute to the other features in the dataset.\n",
    "\n",
    "**As before you do not need to understand how the function works; mainly focus on the output below.**"
   ]
  },
  {
   "cell_type": "code",
   "execution_count": 6,
   "metadata": {
    "id": "1aqVAO1mloPv"
   },
   "outputs": [],
   "source": [
    "def display_attribute(df, meta, col_name):\n",
    "  attr = df.loc[df['Attrition'] == 1]\n",
    "  attr_col_name = []\n",
    "  no_attr_col_name = []\n",
    "  if type(meta[col_val.index(col_name)][1]) == list:\n",
    "    labels = meta[col_val.index(col_name)][1]\n",
    "    for label in labels:\n",
    "      no_attr_col_name.append(len(df.loc[df[col_name] == label]))\n",
    "      attr_col_name.append(len(attr.loc[attr[col_name] == label]))\n",
    "\n",
    "  else:\n",
    "    labels = []\n",
    "    min_val = int(min(df[col_name]))\n",
    "    max_val = int(max(df[col_name]))\n",
    "    rg = max_val - min_val\n",
    "    if rg < 12:\n",
    "      for x in range(min_val, max_val + 1):\n",
    "        no_attr_col_name.append(len(df.loc[df[col_name] == x]))\n",
    "        attr_col_name.append(len(attr.loc[attr[col_name] == x]))\n",
    "        labels.append(x)\n",
    "    else:\n",
    "      for y in range(min_val, max_val, (rg//8)):\n",
    "        no_attr_col_name.append(len(df.loc[df[col_name].between(y, y + (rg//8))]))\n",
    "        attr_col_name.append(len(attr.loc[attr[col_name].between(y, y + (rg//8))]))\n",
    "        labels.append(f\"{y}-{y+(rg//8-1)}\")\n",
    "\n",
    "  if type(labels[0]) != str:\n",
    "    labels = [str(label) for label in labels]\n",
    "  plt.figure(dpi = 150)\n",
    "  plt.bar(labels, no_attr_col_name, label = 'No attrition')\n",
    "  plt.bar(labels, attr_col_name, label = 'Yes attrition')\n",
    "  plt.legend()\n",
    "  plt.title(f'{col_name} distribution')\n",
    "  plt.show()"
   ]
  },
  {
   "cell_type": "code",
   "execution_count": 7,
   "metadata": {
    "colab": {
     "base_uri": "https://localhost:8080/",
     "height": 667
    },
    "executionInfo": {
     "elapsed": 369,
     "status": "ok",
     "timestamp": 1703979110466,
     "user": {
      "displayName": "Ethan R Wong",
      "userId": "02960486710277803186"
     },
     "user_tz": 360
    },
    "id": "cSolHuvmltIx",
    "outputId": "b2ab6287-980e-4579-e6c2-7f3afa62843b"
   },
   "outputs": [
    {
     "data": {
      "image/png": "[encoded data removed]",
      "text/plain": [
       "<Figure size 960x720 with 1 Axes>"
      ]
     },
     "metadata": {},
     "output_type": "display_data"
    }
   ],
   "source": [
    "plt.rcdefaults()\n",
    "display_attribute(hr_df, meta, 'Department') # Change third parameter to change attribute"
   ]
  },
  {
   "cell_type": "markdown",
   "metadata": {
    "id": "I53aLOpjmyxQ"
   },
   "source": [
    "What takeaways can we make from this plot?"
   ]
  },
  {
   "cell_type": "markdown",
   "metadata": {
    "id": "7JiEjWCvoqGI"
   },
   "source": [
    "# Create Function - Model Evaluation"
   ]
  },
  {
   "cell_type": "markdown",
   "metadata": {
    "id": "7YsWXN6foxPT"
   },
   "source": [
    "The goal for this Python notebook is to explore the various ensemble models discussed in class. While we won't need a sample model to work with this time around, we will need to evaluate our models on multiple occasions. As we have gone over various model evaluation metrics of interest, rather than writing a line of code for each metric we are interested in, we can combine them into a function that only needs to be called once for each model! This is achieved below with the `report_score` function.\n",
    "\n",
    "**Note:** We use the [cross_val_predict()](https://scikit-learn.org/stable/modules/generated/sklearn.model_selection.cross_val_predict.html) function to peform cross validation and give us the out-of-sample predictions for each data point in the dataset as opposed to just the accuracy or ROC AUC %. It's as if each prediction was made when its corresponding data point was not part of the training set. This method is useful for evaluating the model performance in a way that's more robust against overfitting, **especially if we don't have a separate test set.** It simulates the scenario where each sample in the dataset has been in a test set."
   ]
  },
  {
   "cell_type": "code",
   "execution_count": 8,
   "metadata": {
    "id": "kJE-nQGgowei"
   },
   "outputs": [],
   "source": [
    "def report_score(mymodel, X, y, mycv):\n",
    "# To use this function, all we need to do is feed it our model of interest, X, y, and the number of folds for cross-validation.\n",
    "\n",
    "    # Calculate and print the cross-validation accuracy\n",
    "    cross_val_accuracy = round(cross_val_score(mymodel, X, y, cv = mycv).mean()*100,2)\n",
    "    print(f\"{mycv}-Fold Cross-Validation Classification Accuracy: {cross_val_accuracy:.2f} %\")\n",
    "\n",
    "    # Calculate and print the cross-validation ROC AUC\n",
    "    cross_val_accuracy_roc_auc = round(cross_val_score(mymodel, X, y, cv =  mycv, scoring = 'roc_auc').mean()*100,2)\n",
    "    print(f\"\\n{mycv}-Fold Cross-Validation ROC AUC: {cross_val_accuracy_roc_auc:.2f} %\")\n",
    "\n",
    "    # Calculate the confusion matrix and print the true positives/negatives and false positives/negatives\n",
    "    predictions = cross_val_predict(mymodel, X, y, cv = mycv)\n",
    "    confusion = confusion_matrix(y, predictions)\n",
    "    tn, fp, fn, tp = confusion.ravel()\n",
    "    print(f\"\\nTrue Negatives: {tn}, False Positives: {fp}, False Negatives: {fn}, True Positives: {tp}\")\n",
    "\n",
    "    # Calculate and print precision and recall:\n",
    "    print(\"\\nPrecision:\", round(precision_score(y, predictions)*100,2))\n",
    "    print(\"\\nRecall:\", round(recall_score(y, predictions)*100,2))"
   ]
  },
  {
   "cell_type": "markdown",
   "metadata": {
    "id": "7R2SPdGezKNU"
   },
   "source": [
    "We will also define our features and target variable from our dataset."
   ]
  },
  {
   "cell_type": "code",
   "execution_count": 9,
   "metadata": {
    "id": "4N8Yn57NzPbp"
   },
   "outputs": [],
   "source": [
    "X = hr_df_binarized.drop(columns=['Attrition'])\n",
    "y = hr_df_binarized.Attrition"
   ]
  },
  {
   "cell_type": "markdown",
   "metadata": {
    "id": "1Mvc_9oKc0LQ"
   },
   "source": [
    "# Create and Evaluate Model - Bagging"
   ]
  },
  {
   "cell_type": "markdown",
   "metadata": {
    "id": "WrpxvCeEy3-4"
   },
   "source": [
    "Now, we are ready to create our first [bagging](https://scikit-learn.org/stable/modules/generated/sklearn.ensemble.BaggingClassifier.html) model. In short, bagging utilizes the concept of bootstrapping to perform four steps:\n",
    "\n",
    "1. Start by randomly selecting N subsets from the original dataset, allowing for repetition.\n",
    "\n",
    "2. Develop a distinct model from each of these subsets.\n",
    "\n",
    "3. Let each model cast a vote by predicting the outcome for a specific test instance, resulting in N votes from N models.\n",
    "\n",
    "4. Consolidate the votes from all models to arrive at a final, singular prediction.\n",
    "\n",
    "As a result, bagging typically enhances the precision predictions! A group of models reduces the risk of a single model fitting too closely to an anomaly in a dataset and weakens the influence of outliers."
   ]
  },
  {
   "cell_type": "markdown",
   "metadata": {
    "id": "hCZvUGoM1IcZ"
   },
   "source": [
    "Bagging is a technique that can be applied to many different models. Thus, when instantiating a model, we can set a base model for it to use with the `estimator` parameter. The default base model is a [decision tree](https://scikit-learn.org/stable/modules/generated/sklearn.tree.DecisionTreeClassifier.html). Additionally, we can set the number of bags (or estimators) to be used with the `n_estimators` parameter. Let's try a few variations."
   ]
  },
  {
   "cell_type": "markdown",
   "metadata": {
    "id": "zwDMVpgt1jvL"
   },
   "source": [
    "First, let's create a bagging model with 30 estimators using the decision tree settings we have been using previously for the British Bank Dataset for our base model."
   ]
  },
  {
   "cell_type": "code",
   "execution_count": 14,
   "metadata": {
    "colab": {
     "base_uri": "https://localhost:8080/"
    },
    "executionInfo": {
     "elapsed": 4298,
     "status": "ok",
     "timestamp": 1703975355851,
     "user": {
      "displayName": "Ethan R Wong",
      "userId": "02960486710277803186"
     },
     "user_tz": 360
    },
    "id": "xqxex_6D12v_",
    "outputId": "c8b26889-557d-41a5-a550-caedf968cff6"
   },
   "outputs": [
    {
     "name": "stdout",
     "output_type": "stream",
     "text": [
      "10-Fold Cross-Validation Classification Accuracy: 86.19 %\n",
      "\n",
      "10-Fold Cross-Validation ROC AUC: 77.63 %\n",
      "\n",
      "True Negatives: 1213, False Positives: 20, False Negatives: 183, True Positives: 54\n",
      "\n",
      "Precision: 72.97\n",
      "\n",
      "Recall: 22.78\n"
     ]
    }
   ],
   "source": [
    "base_model = DecisionTreeClassifier(criterion = 'entropy', max_depth = 5, random_state = 3)\n",
    "bagging_model = BaggingClassifier(base_estimator = base_model, n_estimators = 30, random_state = 3).fit(X, y)\n",
    "report_score(bagging_model, X, y, 10)"
   ]
  },
  {
   "cell_type": "markdown",
   "metadata": {
    "id": "ESd0H7qH2Jkt"
   },
   "source": [
    "Next, let's create a bagging model with 10 estimators using a [logistic regression](https://scikit-learn.org/stable/modules/generated/sklearn.linear_model.LogisticRegression.html) algorithm for our base model instead.\n",
    "\n",
    "**Note:** This may take longer as the data may not be scaled properly for a logistic regression algorithm."
   ]
  },
  {
   "cell_type": "code",
   "execution_count": 15,
   "metadata": {
    "colab": {
     "base_uri": "https://localhost:8080/"
    },
    "executionInfo": {
     "elapsed": 22101,
     "status": "ok",
     "timestamp": 1703975952377,
     "user": {
      "displayName": "Ethan R Wong",
      "userId": "02960486710277803186"
     },
     "user_tz": 360
    },
    "id": "oYlPl4PG1jFE",
    "outputId": "b6824404-889e-474b-f2e3-61c46f5327f4"
   },
   "outputs": [
    {
     "name": "stdout",
     "output_type": "stream",
     "text": [
      "10-Fold Cross-Validation Classification Accuracy: 84.08 %\n",
      "\n",
      "10-Fold Cross-Validation ROC AUC: 68.83 %\n",
      "\n",
      "True Negatives: 1232, False Positives: 1, False Negatives: 233, True Positives: 4\n",
      "\n",
      "Precision: 80.0\n",
      "\n",
      "Recall: 1.69\n"
     ]
    }
   ],
   "source": [
    "base_model = LogisticRegression(random_state = 3)\n",
    "bagging_model = BaggingClassifier(base_estimator = base_model, n_estimators = 10, random_state = 3).fit(X, y)\n",
    "report_score(bagging_model, X, y, 10)"
   ]
  },
  {
   "cell_type": "markdown",
   "metadata": {
    "id": "WAumg6jM5qMl"
   },
   "source": [
    "Lastly, we can create a nested bagging model, or a \"bag of bags\" where we create an initial bagging model that is based off say, a decision tree, and then create a secondary bagging model that uses our initial bagging model as the base model!"
   ]
  },
  {
   "cell_type": "code",
   "execution_count": 1,
   "metadata": {
    "colab": {
     "base_uri": "https://localhost:8080/"
    },
    "executionInfo": {
     "elapsed": 35998,
     "status": "ok",
     "timestamp": 1703976697853,
     "user": {
      "displayName": "Ethan R Wong",
      "userId": "02960486710277803186"
     },
     "user_tz": 360
    },
    "id": "hoW5iTRy6g4i",
    "outputId": "b870a57f-e2da-4a87-b2d3-270194a7ec19"
   },
   "outputs": [
    {
     "ename": "NameError",
     "evalue": "name 'DecisionTreeClassifier' is not defined",
     "output_type": "error",
     "traceback": [
      "\u001b[1;31m---------------------------------------------------------------------------\u001b[0m",
      "\u001b[1;31mNameError\u001b[0m                                 Traceback (most recent call last)",
      "\u001b[1;32m~\\AppData\\Local\\Temp\\ipykernel_13756\\2455332841.py\u001b[0m in \u001b[0;36m<module>\u001b[1;34m\u001b[0m\n\u001b[1;32m----> 1\u001b[1;33m \u001b[0mbase_model\u001b[0m \u001b[1;33m=\u001b[0m \u001b[0mDecisionTreeClassifier\u001b[0m\u001b[1;33m(\u001b[0m\u001b[0mrandom_state\u001b[0m \u001b[1;33m=\u001b[0m \u001b[1;36m3\u001b[0m\u001b[1;33m)\u001b[0m\u001b[1;33m\u001b[0m\u001b[1;33m\u001b[0m\u001b[0m\n\u001b[0m\u001b[0;32m      2\u001b[0m \u001b[0mbagging_model_initial\u001b[0m \u001b[1;33m=\u001b[0m \u001b[0mBaggingClassifier\u001b[0m\u001b[1;33m(\u001b[0m\u001b[0mbase_estimator\u001b[0m \u001b[1;33m=\u001b[0m \u001b[0mbase_model\u001b[0m\u001b[1;33m,\u001b[0m \u001b[0mn_estimators\u001b[0m \u001b[1;33m=\u001b[0m \u001b[1;36m10\u001b[0m\u001b[1;33m,\u001b[0m \u001b[0mrandom_state\u001b[0m \u001b[1;33m=\u001b[0m \u001b[1;36m3\u001b[0m\u001b[1;33m)\u001b[0m\u001b[1;33m.\u001b[0m\u001b[0mfit\u001b[0m\u001b[1;33m(\u001b[0m\u001b[0mX\u001b[0m\u001b[1;33m,\u001b[0m \u001b[0my\u001b[0m\u001b[1;33m)\u001b[0m\u001b[1;33m\u001b[0m\u001b[1;33m\u001b[0m\u001b[0m\n\u001b[0;32m      3\u001b[0m \u001b[0mreport_score\u001b[0m\u001b[1;33m(\u001b[0m\u001b[0mbagging_model_nested\u001b[0m\u001b[1;33m,\u001b[0m \u001b[0mX\u001b[0m\u001b[1;33m,\u001b[0m \u001b[0my\u001b[0m\u001b[1;33m,\u001b[0m \u001b[1;36m10\u001b[0m\u001b[1;33m)\u001b[0m\u001b[1;33m\u001b[0m\u001b[1;33m\u001b[0m\u001b[0m\n",
      "\u001b[1;31mNameError\u001b[0m: name 'DecisionTreeClassifier' is not defined"
     ]
    }
   ],
   "source": [
    "base_model = DecisionTreeClassifier(random_state = 3)\n",
    "bagging_model_initial = BaggingClassifier(base_estimator = base_model, n_estimators = 10, random_state = 3).fit(X, y)\n",
    "report_score(bagging_model_nested, X, y, 10)"
   ]
  },
  {
   "cell_type": "markdown",
   "metadata": {
    "id": "oprIkRlW7UU3"
   },
   "source": [
    "Feel free to experiment with different base models and settings for the bagging model to see if you can get better results than the variations shown above!"
   ]
  },
  {
   "cell_type": "markdown",
   "metadata": {
    "id": "ZpK3hQWic2aC"
   },
   "source": [
    "# Create and Evaluate Model - Random Forest"
   ]
  },
  {
   "cell_type": "markdown",
   "metadata": {
    "id": "SOsOC8MI7pJ7"
   },
   "source": [
    "The next type of ensemble model is the [Random Forest](https://scikit-learn.org/stable/modules/generated/sklearn.ensemble.RandomForestClassifier.html). Unlike bagging models, a Random Forest is limited to decision trees only, but takes further steps to reduce the risk of overfitting. It can be thought up as a step-up from bagging.\n",
    "\n",
    "Random Forests introduce an additional layer of randomness by not utilizing all available features when forming each tree in its ensemble. Additionally, only a random subset of features is evaluated at each split in the tree, which decreases the chance of the model relying on the same feature to capture a spurious pattern across numerous trees.\n",
    "\n",
    "**As a result, we end up exploring trees we may never come across using a standard, greedy approach while also reducing correlation between trees. This reduces variations in predictions without comprising individual accuracy.**\n"
   ]
  },
  {
   "cell_type": "markdown",
   "metadata": {
    "id": "HTcuA-cv9Lv5"
   },
   "source": [
    "When creating a random forest model, here are some of the estimators we can specify:\n",
    "\n",
    "- The number of trees in the forest through `n_estimators`\n",
    "- The splitting criterion for each tree, through `criterion`\n",
    "- The maximum depth for each tree, through `max_depth`\n",
    "- The minimum samples required to split an internal node and the number of samples required in a leaf node through `min_samples_split` and `min_samples_leaf` respectively\n",
    "- The maximum number of random features to consider when looking for the best next split in a tree, through `max_features`\n",
    "\n",
    "Let's instantiate and evaluate a random forest that makes splits to maximize entropy, has 100 trees in the forest, and picks 6 random reatures to consider when looking for each next best split for the trees."
   ]
  },
  {
   "cell_type": "code",
   "execution_count": null,
   "metadata": {
    "colab": {
     "base_uri": "https://localhost:8080/"
    },
    "executionInfo": {
     "elapsed": 16701,
     "status": "ok",
     "timestamp": 1703977805304,
     "user": {
      "displayName": "Ethan R Wong",
      "userId": "02960486710277803186"
     },
     "user_tz": 360
    },
    "id": "GSo9MnLV_Uh9",
    "outputId": "4d87b75e-5d99-4e64-e075-00d82c528319"
   },
   "outputs": [],
   "source": [
    "random_forest_model = RandomForestClassifier(criterion = 'entropy', n_estimators = 100, max_features = 6).fit(X,y)\n",
    "report_score(random_forest_model, X, y, 10)"
   ]
  },
  {
   "cell_type": "markdown",
   "metadata": {
    "id": "f3Rh3xKn_iRl"
   },
   "source": [
    "Like the bagging models, feel free to experiment with different settings for the random forest to see if you can get better results!"
   ]
  },
  {
   "cell_type": "markdown",
   "metadata": {
    "id": "JHzn4oZ8dAFG"
   },
   "source": [
    "# Create and Evaluate Model - Boosting"
   ]
  },
  {
   "cell_type": "markdown",
   "metadata": {
    "id": "ylHh0noL_3e_"
   },
   "source": [
    "A third type of ensemble technique is known as Boosting. Essentially, boosting involves combining various \"weak learners\" such as shallow or underfitted trees, to form a strong predictive model. Paradoxically, this model achives both low bias and low variance.\n",
    "\n",
    "Each model is added sequentiallly and with each step, the boosting model as a whole becomes more complex and better adapted to the dataset. Successive models in boosting focus on the errors of the previous models, and each model in the ensemble aims to correct the mistakes made by previous models.\n",
    "\n",
    "Like bagging, boosting can be applied to various models besides trees. However, boosting assigns higher weights to the instances that were misclassified by earlier models, increasing the stakes for the subsequent models to get them right. Each model has a different weight, which reflects their accuracy in predicting an outcome; more accurate models have a bigger say in the final prediction.\n"
   ]
  },
  {
   "cell_type": "markdown",
   "metadata": {
    "id": "m-g4JiWJBYIx"
   },
   "source": [
    "**Two libraries in Sci-Kit Learn that can perform boosting are the [AdaBoostClassifier](https://scikit-learn.org/stable/modules/generated/sklearn.ensemble.AdaBoostClassifier.html) and the [GradientBoostingClassifier](https://scikit-learn.org/stable/modules/generated/sklearn.ensemble.GradientBoostingClassifier.html).**\n",
    "\n",
    "While AdaBoost a fairly standard boosting algorithm, Gradient Boosting differs in that instead of tweaking the instance weights, it fits the new model to the residual errors made by the previous models. Gradient Boosting also involves the minimization of a loss function (like mean squared error for regression). Each new model is trained to reduce the residual loss from the previous models. Moreover, it often includes a learning rate (shrinkage) that scales the contribution of each tree. This helps in improving model robustness by slowing down the learning process.\n",
    "\n",
    "**In short, AdaBoost is simpler and often faster, which can be effective on datasets where correcting misclassified instances is crucial. Gradient Boosting is more flexible and can be more powerful, but it requires careful tuning to avoid overfitting and can be computationally more intensive.**\n",
    "\n"
   ]
  },
  {
   "cell_type": "markdown",
   "metadata": {
    "id": "56Y2ka99D9Up"
   },
   "source": [
    "Below, we have fit an AdaBoost model and a Gradient Boosting model with some basic parameters. Geel free to experiment with different settings for these algorithms to see if you can get better results!"
   ]
  },
  {
   "cell_type": "code",
   "execution_count": null,
   "metadata": {
    "colab": {
     "base_uri": "https://localhost:8080/"
    },
    "executionInfo": {
     "elapsed": 4378,
     "status": "ok",
     "timestamp": 1703978533309,
     "user": {
      "displayName": "Ethan R Wong",
      "userId": "02960486710277803186"
     },
     "user_tz": 360
    },
    "id": "1rQAFJUY_zyW",
    "outputId": "f0c64b01-01ec-490e-e099-9b7b9b6e98ad"
   },
   "outputs": [],
   "source": [
    "adaboost_model = AdaBoostClassifier(algorithm=\"SAMME.R\", n_estimators=20, random_state = 3)\n",
    "report_score(adaboost_model, X, y, 10)"
   ]
  },
  {
   "cell_type": "code",
   "execution_count": 18,
   "metadata": {},
   "outputs": [
    {
     "name": "stdout",
     "output_type": "stream",
     "text": [
      "10-Fold Cross-Validation Classification Accuracy: 87.21 %\n",
      "\n",
      "10-Fold Cross-Validation ROC AUC: 82.26 %\n",
      "\n",
      "True Negatives: 1224, False Positives: 9, False Negatives: 179, True Positives: 58\n",
      "\n",
      "Precision: 86.57\n",
      "\n",
      "Recall: 24.47\n"
     ]
    }
   ],
   "source": [
    "adaboost_model = AdaBoostClassifier(algorithm=\"SAMME.R\", n_estimators=20, random_state = 3)\n",
    "bagging_model_nested = BaggingClassifier(base_estimator = adaboost_model, n_estimators=20, random_state = 3)\n",
    "report_score(bagging_model_nested, X, y, 10)"
   ]
  },
  {
   "cell_type": "code",
   "execution_count": null,
   "metadata": {
    "colab": {
     "base_uri": "https://localhost:8080/"
    },
    "executionInfo": {
     "elapsed": 22030,
     "status": "ok",
     "timestamp": 1703978555337,
     "user": {
      "displayName": "Ethan R Wong",
      "userId": "02960486710277803186"
     },
     "user_tz": 360
    },
    "id": "6wx-P6PCB6p4",
    "outputId": "c3c65b57-357f-4d2d-a9eb-65763d0c77c5"
   },
   "outputs": [],
   "source": [
    "gradient_boosting_model = GradientBoostingClassifier(n_estimators=100, learning_rate=0.1, max_depth=3, random_state = 3)\n",
    "report_score(gradient_boosting_model, X, y, 10)"
   ]
  }
 ],
 "metadata": {
  "colab": {
   "authorship_tag": "ABX9TyM5i78QeMxr4BhToCngfZiP",
   "provenance": []
  },
  "kernelspec": {
   "display_name": "Python 3 (ipykernel)",
   "language": "python",
   "name": "python3"
  },
  "language_info": {
   "codemirror_mode": {
    "name": "ipython",
    "version": 3
   },
   "file_extension": ".py",
   "mimetype": "text/x-python",
   "name": "python",
   "nbconvert_exporter": "python",
   "pygments_lexer": "ipython3",
   "version": "3.9.13"
  }
 },
 "nbformat": 4,
 "nbformat_minor": 1
}
